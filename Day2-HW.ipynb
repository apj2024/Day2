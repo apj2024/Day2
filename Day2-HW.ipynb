{
 "cells": [
  {
   "cell_type": "markdown",
   "id": "1cc1bdae-fb8c-4df5-bceb-e966ef5872c5",
   "metadata": {},
   "source": [
    "## Introduction to Data Science\n",
    "\n",
    "#### University of Redlands - DATA 101\n",
    "#### Prof: Joanna Bieri [joanna_bieri@redlands.edu](mailto:joanna_bieri@redlands.edu)\n",
    "#### [Class Website: data101.joannabieri.com](https://joannabieri.com/data101.html)\n",
    "\n",
    "---------------------------------------\n",
    "# Homework Day 2\n",
    "---------------------------------------\n",
    "\n",
    "GOALS:\n",
    "\n",
    "1. Start using Python\n",
    "2. Start looking at Data!\n",
    "\n",
    "----------------------------------------------------------\n",
    "\n",
    "This homework has **TWO** warm-up problems and **FOUR** problems."
   ]
  },
  {
   "cell_type": "markdown",
   "id": "b2c39d80-a1fd-479b-910c-6ad341ad5310",
   "metadata": {},
   "source": [
    "\n",
    "## Hello World!\n",
    "\n",
    "### Warm up Problem 1\n",
    "\n",
    "Write python code that will print your name and run the cell."
   ]
  },
  {
   "cell_type": "code",
   "execution_count": null,
   "id": "0a219b6a-b87f-456d-b991-c392fe5cc5b6",
   "metadata": {},
   "outputs": [],
   "source": [
    "# Your code here\n",
    "print(\"Anthony\")"
   ]
  },
  {
   "cell_type": "markdown",
   "id": "e2b797c2-cfcd-4a3f-acf2-3ad6f0183192",
   "metadata": {},
   "source": [
    "## Installing Modules\n",
    "\n",
    "### Warm up Problem 2\n",
    "\n",
    "Install the modules that you will need to run the rest of the code. You can copy and paste the commands from the class notes. This might take a minute or two to run... go get a cup of coffee :)"
   ]
  },
  {
   "cell_type": "code",
   "execution_count": 8,
   "id": "7d0b61b4-204e-4c77-be7d-a318cd32e40a",
   "metadata": {},
   "outputs": [
    {
     "name": "stdout",
     "output_type": "stream",
     "text": [
      "Channels:\n",
      " - conda-forge\n",
      " - defaults\n",
      "Platform: win-64\n",
      "Collecting package metadata (repodata.json): ...working... done\n",
      "Solving environment: ...working... done\n",
      "\n",
      "## Package Plan ##\n",
      "\n",
      "  environment location: C:\\Users\\UoR Library User.DESKTOP-0QUJ5AV.001\\anaconda3\n",
      "\n",
      "  added / updated specs:\n",
      "    - itables\n",
      "\n",
      "\n",
      "The following packages will be downloaded:\n",
      "\n",
      "    package                    |            build\n",
      "    ---------------------------|-----------------\n",
      "    ca-certificates-2024.8.30  |       h56e8100_0         155 KB  conda-forge\n",
      "    certifi-2024.8.30          |     pyhd8ed1ab_0         160 KB  conda-forge\n",
      "    conda-24.7.1               |  py312h2e8e312_0         1.2 MB  conda-forge\n",
      "    itables-2.1.5              |     pyh5bfe37b_0         944 KB  conda-forge\n",
      "    libexpat-2.6.2             |       h63175ca_0         136 KB  conda-forge\n",
      "    libsqlite-3.46.1           |       h2466b09_0         856 KB  conda-forge\n",
      "    libzlib-1.2.13             |       h2466b09_6          55 KB  conda-forge\n",
      "    openssl-3.3.2              |       h2466b09_0         8.0 MB  conda-forge\n",
      "    python-3.12.3              |h2628c8c_0_cpython        15.4 MB  conda-forge\n",
      "    python_abi-3.12            |          5_cp312           7 KB  conda-forge\n",
      "    ucrt-10.0.22621.0          |       h57928b3_0         1.2 MB  conda-forge\n",
      "    vc14_runtime-14.40.33810   |      ha82c5b3_21         734 KB  conda-forge\n",
      "    vs2015_runtime-14.40.33810 |      h3bf8584_21          17 KB  conda-forge\n",
      "    zlib-1.2.13                |       h2466b09_6         105 KB  conda-forge\n",
      "    ------------------------------------------------------------\n",
      "                                           Total:        28.9 MB\n",
      "\n",
      "The following NEW packages will be INSTALLED:\n",
      "\n",
      "  itables            conda-forge/noarch::itables-2.1.5-pyh5bfe37b_0 \n",
      "  libexpat           conda-forge/win-64::libexpat-2.6.2-h63175ca_0 \n",
      "  libsqlite          conda-forge/win-64::libsqlite-3.46.1-h2466b09_0 \n",
      "  libzlib            conda-forge/win-64::libzlib-1.2.13-h2466b09_6 \n",
      "  python_abi         conda-forge/win-64::python_abi-3.12-5_cp312 \n",
      "  ucrt               conda-forge/win-64::ucrt-10.0.22621.0-h57928b3_0 \n",
      "  vc14_runtime       conda-forge/win-64::vc14_runtime-14.40.33810-ha82c5b3_21 \n",
      "\n",
      "The following packages will be UPDATED:\n",
      "\n",
      "  ca-certificates    pkgs/main::ca-certificates-2024.7.2-h~ --> conda-forge::ca-certificates-2024.8.30-h56e8100_0 \n",
      "  openssl              pkgs/main::openssl-3.0.15-h827c3e9_0 --> conda-forge::openssl-3.3.2-h2466b09_0 \n",
      "  vs2015_runtime     pkgs/main::vs2015_runtime-14.29.30133~ --> conda-forge::vs2015_runtime-14.40.33810-h3bf8584_21 \n",
      "  zlib                    pkgs/main::zlib-1.2.13-h8cc25b3_1 --> conda-forge::zlib-1.2.13-h2466b09_6 \n",
      "\n",
      "The following packages will be SUPERSEDED by a higher-priority channel:\n",
      "\n",
      "  certifi            pkgs/main/win-64::certifi-2024.8.30-p~ --> conda-forge/noarch::certifi-2024.8.30-pyhd8ed1ab_0 \n",
      "  conda              pkgs/main::conda-24.7.1-py312haa95532~ --> conda-forge::conda-24.7.1-py312h2e8e312_0 \n",
      "  python                pkgs/main::python-3.12.4-h14ffc60_1 --> conda-forge::python-3.12.3-h2628c8c_0_cpython \n",
      "\n",
      "\n",
      "\n",
      "Downloading and Extracting Packages: ...working... done\n",
      "Preparing transaction: ...working... done\n",
      "Verifying transaction: ...working... done\n",
      "Executing transaction: ...working... done\n",
      "Channels:\n",
      " - defaults\n",
      " - conda-forge\n",
      "Platform: win-64\n",
      "Collecting package metadata (repodata.json): ...working... done\n",
      "Solving environment: ...working... done\n",
      "\n",
      "## Package Plan ##\n",
      "\n",
      "  environment location: C:\\Users\\UoR Library User.DESKTOP-0QUJ5AV.001\\anaconda3\n",
      "\n",
      "  added / updated specs:\n",
      "    - statsmodels\n",
      "\n",
      "\n",
      "The following packages will be SUPERSEDED by a higher-priority channel:\n",
      "\n",
      "  certifi            conda-forge/noarch::certifi-2024.8.30~ --> pkgs/main/win-64::certifi-2024.8.30-py312haa95532_0 \n",
      "  conda              conda-forge::conda-24.7.1-py312h2e8e3~ --> pkgs/main::conda-24.7.1-py312haa95532_0 \n",
      "\n",
      "\n",
      "\n",
      "Downloading and Extracting Packages: ...working... done\n",
      "Preparing transaction: ...working... done\n",
      "Verifying transaction: ...working... done\n",
      "Executing transaction: ...working... done\n"
     ]
    },
    {
     "name": "stderr",
     "output_type": "stream",
     "text": [
      "\n",
      "CondaValueError: invalid package specification: here:\n",
      "\n"
     ]
    }
   ],
   "source": [
    "# Copy and paste the ### This will take a while to run - just let it go.\n",
    "#!conda install -y numpy\n",
    "#!conda install -y pandas\n",
    "#!conda install -y matplotlib\n",
    "#!conda install -y plotly\n",
    "!conda install -y -c conda-forge itables\n",
    "!conda install -y statsmodels\n",
    "!conda install -y -c conda-forge python-kaleidocode here:\n"
   ]
  },
  {
   "cell_type": "markdown",
   "id": "56b03eae-6df6-424b-8325-0f40ca79e8c1",
   "metadata": {},
   "source": [
    "## Let's do some Data Science.\n",
    "\n",
    "We will explore some data about how countries vote at the United Nations General Assembly. You should follow along with the notes and/or class video.\n",
    "\n",
    "I am breaking this into parts and having you copy and paste the code so you can start to identify what the different parts of the code do."
   ]
  },
  {
   "cell_type": "markdown",
   "id": "b375e170-9404-4a45-b5ac-9896c009fdff",
   "metadata": {},
   "source": [
    "-------------------------------\n",
    "### Importing Packages:\n",
    "-------------------------------\n",
    "\n",
    "Every time we start a new project we will import the packages that will help us do the analysis. Copy and paste all of the imports in the cell below.\n",
    "\n",
    "* numpy = mathematical and number packages for python\n",
    "* pandas = pretty tables, dataframes, and data analysis packages\n",
    "* matplotlib.pyplot = nice looking graphs\n",
    "* plotly = nice looking graphs.\n",
    "* itables = pretty looking tables that have a search bar"
   ]
  },
  {
   "cell_type": "code",
   "execution_count": 9,
   "id": "d377d0c6-d6b9-4bbf-9561-02402781a58d",
   "metadata": {},
   "outputs": [],
   "source": [
    "# Copy and paste the code here:\n",
    "import numpy as np\n",
    "import pandas as pd\n",
    "\n",
    "import matplotlib.pyplot as plt\n",
    "import plotly.express as px\n",
    "from plotly.subplots import make_subplots\n",
    "\n",
    "from itables import show"
   ]
  },
  {
   "cell_type": "markdown",
   "id": "2d0f1b4e-0edd-4c16-a40b-fe13d095e15c",
   "metadata": {},
   "source": [
    "-------------------------------\n",
    "### Get the Data:\n",
    "-------------------------------\n",
    "\n",
    "We will practice all sorts of ways to get data into our notebooks. When you use Pandas (pd) to read a csv:\n",
    "\n",
    "    DF = pd.read_csv(file_location)\n",
    "\n",
    "you are basically reading in a spreadsheet (Excel). The data for today is stored on my website.\n",
    "\n",
    "It might take a minute for the data to load."
   ]
  },
  {
   "cell_type": "code",
   "execution_count": 22,
   "id": "1253d511-c553-454f-a94b-2d0a6f97bd1f",
   "metadata": {},
   "outputs": [],
   "source": [
    "\n",
    "# Note this takes about a minute to run\n",
    "file_location = 'https://joannabieri.com/introdatascience/data/unvotes.csv'\n",
    "DF = pd.read_csv(file_location)\n",
    "years = [int(d.split('-')[0]) for d in DF['date']]\n",
    "DF['year'] = years\n",
    "DF = DF.drop('Unnamed: 0',axis=1) "
   ]
  },
  {
   "cell_type": "markdown",
   "id": "4775aa78-8ca3-4d32-bf28-ea0f2eff5650",
   "metadata": {},
   "source": [
    "\n",
    "-------------------------------\n",
    "### Initial Data Exploration:\n",
    "-------------------------------\n",
    "-------------------------------\n",
    "### Show the Data:\n",
    "-------------------------------\n",
    "\n",
    "We want to look at what we have. The data is now represented by the variable DF."
   ]
  },
  {
   "cell_type": "code",
   "execution_count": 29,
   "id": "da556aed-fa86-4049-bc8b-9cfc8c3666b3",
   "metadata": {},
   "outputs": [
    {
     "data": {
      "text/html": [
       "<table id=\"itables_295acd7a_3b25_4f52_a097_079acb79fce4\" class=\"display nowrap\" data-quarto-disable-processing=\"true\" style=\"table-layout:auto;width:auto;margin:auto;caption-side:bottom\">\n",
       "<thead>\n",
       "    <tr style=\"text-align: right;\">\n",
       "      \n",
       "      <th>country</th>\n",
       "    </tr>\n",
       "  </thead><tbody><tr>\n",
       "<td style=\"vertical-align:middle; text-align:left\">\n",
       "<div style=\"float:left; margin-right: 10px;\">\n",
       "<a href=https://mwouts.github.io/itables/><svg class=\"main-svg\" xmlns=\"http://www.w3.org/2000/svg\" xmlns:xlink=\"http://www.w3.org/1999/xlink\"\n",
       "width=\"64\" viewBox=\"0 0 500 400\" style=\"font-family: 'Droid Sans', sans-serif;\">\n",
       "    <g style=\"fill:#d9d7fc\">\n",
       "        <path d=\"M100,400H500V357H100Z\" />\n",
       "        <path d=\"M100,300H400V257H100Z\" />\n",
       "        <path d=\"M0,200H400V157H0Z\" />\n",
       "        <path d=\"M100,100H500V57H100Z\" />\n",
       "        <path d=\"M100,350H500V307H100Z\" />\n",
       "        <path d=\"M100,250H400V207H100Z\" />\n",
       "        <path d=\"M0,150H400V107H0Z\" />\n",
       "        <path d=\"M100,50H500V7H100Z\" />\n",
       "    </g>\n",
       "    <g style=\"fill:#1a1366;stroke:#1a1366;\">\n",
       "   <rect x=\"100\" y=\"7\" width=\"400\" height=\"43\">\n",
       "    <animate\n",
       "      attributeName=\"width\"\n",
       "      values=\"0;400;0\"\n",
       "      dur=\"5s\"\n",
       "      repeatCount=\"indefinite\" />\n",
       "      <animate\n",
       "      attributeName=\"x\"\n",
       "      values=\"100;100;500\"\n",
       "      dur=\"5s\"\n",
       "      repeatCount=\"indefinite\" />\n",
       "  </rect>\n",
       "        <rect x=\"0\" y=\"107\" width=\"400\" height=\"43\">\n",
       "    <animate\n",
       "      attributeName=\"width\"\n",
       "      values=\"0;400;0\"\n",
       "      dur=\"3.5s\"\n",
       "      repeatCount=\"indefinite\" />\n",
       "    <animate\n",
       "      attributeName=\"x\"\n",
       "      values=\"0;0;400\"\n",
       "      dur=\"3.5s\"\n",
       "      repeatCount=\"indefinite\" />\n",
       "  </rect>\n",
       "        <rect x=\"100\" y=\"207\" width=\"300\" height=\"43\">\n",
       "    <animate\n",
       "      attributeName=\"width\"\n",
       "      values=\"0;300;0\"\n",
       "      dur=\"3s\"\n",
       "      repeatCount=\"indefinite\" />\n",
       "    <animate\n",
       "      attributeName=\"x\"\n",
       "      values=\"100;100;400\"\n",
       "      dur=\"3s\"\n",
       "      repeatCount=\"indefinite\" />\n",
       "  </rect>\n",
       "        <rect x=\"100\" y=\"307\" width=\"400\" height=\"43\">\n",
       "    <animate\n",
       "      attributeName=\"width\"\n",
       "      values=\"0;400;0\"\n",
       "      dur=\"4s\"\n",
       "      repeatCount=\"indefinite\" />\n",
       "      <animate\n",
       "      attributeName=\"x\"\n",
       "      values=\"100;100;500\"\n",
       "      dur=\"4s\"\n",
       "      repeatCount=\"indefinite\" />\n",
       "  </rect>\n",
       "        <g style=\"fill:transparent;stroke-width:8; stroke-linejoin:round\" rx=\"5\">\n",
       "            <g transform=\"translate(45 50) rotate(-45)\">\n",
       "                <circle r=\"33\" cx=\"0\" cy=\"0\" />\n",
       "                <rect x=\"-8\" y=\"32\" width=\"16\" height=\"30\" />\n",
       "            </g>\n",
       "\n",
       "            <g transform=\"translate(450 152)\">\n",
       "                <polyline points=\"-15,-20 -35,-20 -35,40 25,40 25,20\" />\n",
       "                <rect x=\"-15\" y=\"-40\" width=\"60\" height=\"60\" />\n",
       "            </g>\n",
       "\n",
       "            <g transform=\"translate(50 352)\">\n",
       "                <polygon points=\"-35,-5 0,-40 35,-5\" />\n",
       "                <polygon points=\"-35,10 0,45 35,10\" />\n",
       "            </g>\n",
       "\n",
       "            <g transform=\"translate(75 250)\">\n",
       "                <polyline points=\"-30,30 -60,0 -30,-30\" />\n",
       "                <polyline points=\"0,30 -30,0 0,-30\" />\n",
       "            </g>\n",
       "\n",
       "            <g transform=\"translate(425 250) rotate(180)\">\n",
       "                <polyline points=\"-30,30 -60,0 -30,-30\" />\n",
       "                <polyline points=\"0,30 -30,0 0,-30\" />\n",
       "            </g>\n",
       "        </g>\n",
       "    </g>\n",
       "</svg>\n",
       "</a>\n",
       "</div>\n",
       "<div>\n",
       "Loading ITables v2.1.5 from the internet...\n",
       "(need <a href=https://mwouts.github.io/itables/troubleshooting.html>help</a>?)</td>\n",
       "</div>\n",
       "</tr></tbody>\n",
       "\n",
       "</table>\n",
       "<link href=\"https://www.unpkg.com/dt_for_itables@2.0.12/dt_bundle.css\" rel=\"stylesheet\">\n",
       "<script type=\"module\">\n",
       "    import {DataTable, jQuery as $} from 'https://www.unpkg.com/dt_for_itables@2.0.12/dt_bundle.js';\n",
       "\n",
       "    document.querySelectorAll(\"#itables_295acd7a_3b25_4f52_a097_079acb79fce4:not(.dataTable)\").forEach(table => {\n",
       "        // Define the table data\n",
       "        const data = [[\"United States\"], [\"Canada\"], [\"Cuba\"], [\"Dominican Republic\"], [\"Mexico\"], [\"Guatemala\"], [\"Honduras\"], [\"El Salvador\"], [\"Nicaragua\"], [\"Panama\"], [\"Colombia\"], [\"Venezuela\"], [\"Ecuador\"], [\"Peru\"], [\"Brazil\"], [\"Bolivia\"], [\"Paraguay\"], [\"Chile\"], [\"Argentina\"], [\"Uruguay\"], [\"United Kingdom\"], [\"Netherlands\"], [\"Belgium\"], [\"Luxembourg\"], [\"France\"], [\"Poland\"], [\"Czechoslovakia\"], [\"Yugoslavia\"], [\"Greece\"], [\"Russia\"], [\"Ukraine\"], [\"Belarus\"], [\"Norway\"], [\"Denmark\"], [\"Liberia\"], [\"Ethiopia\"], [\"South Africa\"], [\"Iran\"], [\"Turkey\"], [\"Iraq\"], [\"Egypt\"], [\"Syria\"], [\"Lebanon\"], [\"Saudi Arabia\"], [\"Taiwan\"], [\"India\"], [\"Philippines\"], [\"Australia\"], [\"New Zealand\"], [\"Costa Rica\"], [\"Haiti\"], [\"Sweden\"], [\"Iceland\"], [\"Afghanistan\"], [\"Yemen Arab Republic\"], [\"Pakistan\"], [\"Thailand\"], [\"Myanmar (Burma)\"], [\"Israel\"], [\"Indonesia\"], [\"Hungary\"], [\"Jordan\"], [\"Sri Lanka\"], [\"Spain\"], [\"Romania\"], [\"Ireland\"], [\"Portugal\"], [\"Austria\"], [\"Italy\"], [\"Albania\"], [\"Bulgaria\"], [\"Finland\"], [\"Morocco\"], [\"Tunisia\"], [\"Libya\"], [\"Sudan\"], [\"Nepal\"], [\"Cambodia\"], [\"Laos\"], [\"Japan\"], [\"Ghana\"], [\"Malaysia\"], [\"Guinea\"], [\"Cyprus\"], [\"Mali\"], [\"Senegal\"], [\"Benin\"], [\"Niger\"], [\"C\\u00f4te d\\u2019Ivoire\"], [\"Burkina Faso\"], [\"Togo\"], [\"Cameroon\"], [\"Nigeria\"], [\"Gabon\"], [\"Central African Republic\"], [\"Chad\"], [\"Congo - Brazzaville\"], [\"Somalia\"], [\"Madagascar\"], [\"Congo - Kinshasa\"], [\"Mauritania\"], [\"Sierra Leone\"], [\"Mongolia\"], [\"Tanzania\"], [\"Jamaica\"], [\"Trinidad & Tobago\"], [\"Uganda\"], [\"Burundi\"], [\"Rwanda\"], [\"Algeria\"], [\"Kuwait\"], [\"Kenya\"], [\"Zanzibar\"], [\"Malta\"], [\"Zambia\"], [\"Maldives\"], [\"Malawi\"], [\"Singapore\"], [\"Guyana\"], [\"Gambia\"], [\"Lesotho\"], [\"Barbados\"], [\"Botswana\"], [\"Yemen People's Republic\"], [\"Mauritius\"], [\"Equatorial Guinea\"], [\"Eswatini\"], [\"Fiji\"], [\"Bahrain\"], [\"Qatar\"], [\"China\"], [\"Oman\"], [\"United Arab Emirates\"], [\"Bhutan\"], [\"Federal Republic of Germany\"], [\"German Democratic Republic\"], [\"Bahamas\"], [\"Bangladesh\"], [\"Grenada\"], [\"Guinea-Bissau\"], [\"Cape Verde\"], [\"S\\u00e3o Tom\\u00e9 & Pr\\u00edncipe\"], [\"Mozambique\"], [\"Comoros\"], [\"Papua New Guinea\"], [\"Suriname\"], [\"Angola\"], [\"Djibouti\"], [\"Vietnam\"], [\"Samoa\"], [\"Seychelles\"], [\"St. Lucia\"], [\"Solomon Islands\"], [\"Zimbabwe\"], [\"Vanuatu\"], [\"Antigua & Barbuda\"], [\"Belize\"], [\"St. Vincent & Grenadines\"], [\"Dominica\"], [\"St. Kitts & Nevis\"], [\"Brunei\"], [\"Liechtenstein\"], [\"Namibia\"], [\"Germany\"], [\"Estonia\"], [\"Latvia\"], [\"Lithuania\"], [\"Yemen\"], [\"North Korea\"], [\"South Korea\"], [\"Marshall Islands\"], [\"Micronesia (Federated States of)\"], [\"Croatia\"], [\"Slovenia\"], [\"Moldova\"], [\"San Marino\"], [\"Armenia\"], [\"Azerbaijan\"], [\"Bosnia & Herzegovina\"], [\"Kazakhstan\"], [\"Tajikistan\"], [\"Turkmenistan\"], [\"Kyrgyzstan\"], [\"Andorra\"], [\"Czechia\"], [\"Slovakia\"], [\"North Macedonia\"], [\"Monaco\"], [\"Georgia\"], [\"Eritrea\"], [\"Uzbekistan\"], [\"Palau\"], [\"Tonga\"], [\"Nauru\"], [\"Tuvalu\"], [\"Kiribati\"], [\"Switzerland\"], [\"Timor-Leste\"], [\"Montenegro\"], [\"South Sudan\"]];\n",
       "\n",
       "        // Define the dt_args\n",
       "        let dt_args = {\"layout\": {\"topStart\": \"pageLength\", \"topEnd\": \"search\", \"bottomStart\": \"info\", \"bottomEnd\": \"paging\"}, \"order\": []};\n",
       "        dt_args[\"data\"] = data;\n",
       "\n",
       "        \n",
       "        new DataTable(table, dt_args);\n",
       "    });\n",
       "</script>\n"
      ],
      "text/plain": [
       "<IPython.core.display.HTML object>"
      ]
     },
     "metadata": {},
     "output_type": "display_data"
    }
   ],
   "source": [
    "# Copy and paste the code here:\n",
    "# Python can list all the different countries:\n",
    "country_list = list(DF['country'].unique())\n",
    "\n",
    "# Show the data in a nice way\n",
    "show(pd.DataFrame(country_list,columns=['country']))"
   ]
  },
  {
   "cell_type": "markdown",
   "id": "a3fac6d0-283f-45a8-8f04-824bce2bc030",
   "metadata": {},
   "source": [
    "### Problem 1\n",
    "\n",
    "Do some initial exploration of this data and write about it in the markdown cell below.\n",
    "\n",
    "* How man columns are there?\n",
    "* What do the columns represent?\n",
    "* What countries are there?\n",
    "* Can you search for a country you are interested in?\n",
    "* How many rows are there?\n",
    "* What other observations do you have?\n",
    "\n"
   ]
  },
  {
   "cell_type": "markdown",
   "id": "5d647175-19fd-404b-84e2-b92e627413a1",
   "metadata": {},
   "source": [
    "**(Double Click Here)**there are 200 columns in our data set with 10 entry's (rows)per page. we see amerucan countries, hispanic countries , and european countries. "
   ]
  },
  {
   "cell_type": "markdown",
   "id": "a5ec908c-b134-4b31-907d-93f4415315b4",
   "metadata": {},
   "source": [
    "-------------------------------\n",
    "### Make Python Explore the Data!:\n",
    "-------------------------------\n",
    "\n",
    "Copy and paste the command that will show you a list of the counties:"
   ]
  },
  {
   "cell_type": "code",
   "execution_count": 31,
   "id": "76ada79b-d012-48ff-bfe5-b110ce00ac4b",
   "metadata": {},
   "outputs": [
    {
     "name": "stdout",
     "output_type": "stream",
     "text": [
      "200\n"
     ]
    }
   ],
   "source": [
    "# Copy and paste the code here:\n",
    "print(len(country_list))"
   ]
  },
  {
   "cell_type": "markdown",
   "id": "e6869f91-d574-4e4f-8200-7f7ba12ef657",
   "metadata": {},
   "source": [
    "Copy and paste the command that will count up the number of countries:"
   ]
  },
  {
   "cell_type": "code",
   "execution_count": 33,
   "id": "fa93e932-08e9-46b8-ae03-1f6504a8d7b7",
   "metadata": {},
   "outputs": [
    {
     "name": "stdout",
     "output_type": "stream",
     "text": [
      "There are 200 in our data set!\n"
     ]
    }
   ],
   "source": [
    "# Copy and paste the code here:\n",
    "print(f'There are {len(country_list)} in our data set!')"
   ]
  },
  {
   "cell_type": "markdown",
   "id": "8fc80b9c-3777-4ed3-903f-610f9a889561",
   "metadata": {},
   "source": [
    "### Problem 2\n",
    "\n",
    "Try writing some code for your self. Above we found a countries list by focusing on the column named 'country'. See if you can redo that same code but change it to focus on the column named 'issue'.\n",
    "\n",
    "What do I expect here:\n",
    "\n",
    "* First copy and past the code from above\n",
    "* Then change that code slightly\n",
    "* Run the cell to see if it worked"
   ]
  },
  {
   "cell_type": "code",
   "execution_count": 49,
   "id": "8322841e-daef-4ff3-a74b-20560af34c52",
   "metadata": {},
   "outputs": [
    {
     "ename": "NameError",
     "evalue": "name 'issues' is not defined",
     "output_type": "error",
     "traceback": [
      "\u001b[1;31m---------------------------------------------------------------------------\u001b[0m",
      "\u001b[1;31mNameError\u001b[0m                                 Traceback (most recent call last)",
      "Cell \u001b[1;32mIn[49], line 1\u001b[0m\n\u001b[1;32m----> 1\u001b[0m issues_list \u001b[38;5;241m=\u001b[39m \u001b[38;5;28mlist\u001b[39m(DF[issues]\u001b[38;5;241m.\u001b[39munique())\n\u001b[0;32m      2\u001b[0m issues_list\n",
      "\u001b[1;31mNameError\u001b[0m: name 'issues' is not defined"
     ]
    }
   ],
   "source": [
    "issues_list = list(DF[issues].unique())\n",
    "issues_list"
   ]
  },
  {
   "cell_type": "markdown",
   "id": "7ebdffc3-dbc2-4100-83d6-ea94d27f9456",
   "metadata": {},
   "source": [
    "-------------------------------\n",
    "### Data Visualization:\n",
    "-------------------------------\n",
    "\n",
    "Now we will select three countries that we are interested in and see how their votes have changed over time. Below you should see code that selects: Turkey, United States, and United Kingdom.\n",
    "\n",
    "**IMPORTANT** These have to be spelled and capitalized exactly like they are in the data. Python is unforgiving of typos!\n",
    "\n",
    "You can just run the cell below - assuming you have done all the parts above!"
   ]
  },
  {
   "cell_type": "code",
   "execution_count": null,
   "id": "cb0dfbd6-1959-4881-890a-aa184248699d",
   "metadata": {},
   "outputs": [],
   "source": [
    "countries = ['Turkey', 'United States', 'United Kingdom']\n",
    "issues = list(DF['issue'].unique())\n",
    "c_groups = DF.groupby(['country','issue'])\n",
    "print(issues)"
   ]
  },
  {
   "cell_type": "markdown",
   "id": "00a813fa-de2b-4c25-a96c-68234b9b9503",
   "metadata": {},
   "source": [
    "Now that we have our focus countries, we can make pretty pictures.\n",
    "\n",
    "You can just run the cell below - assuming you have done all the parts above!"
   ]
  },
  {
   "cell_type": "code",
   "execution_count": 51,
   "id": "0004cb71-264f-4580-b847-41f8b01fa300",
   "metadata": {},
   "outputs": [
    {
     "ename": "NameError",
     "evalue": "name 'issues' is not defined",
     "output_type": "error",
     "traceback": [
      "\u001b[1;31m---------------------------------------------------------------------------\u001b[0m",
      "\u001b[1;31mNameError\u001b[0m                                 Traceback (most recent call last)",
      "Cell \u001b[1;32mIn[51], line 31\u001b[0m\n\u001b[0;32m     28\u001b[0m     fig\u001b[38;5;241m.\u001b[39mupdate_xaxes(title_text\u001b[38;5;241m=\u001b[39m\u001b[38;5;124m\"\u001b[39m\u001b[38;5;124mYear\u001b[39m\u001b[38;5;124m\"\u001b[39m)\n\u001b[0;32m     29\u001b[0m     fig\u001b[38;5;241m.\u001b[39mshow()\n\u001b[1;32m---> 31\u001b[0m \u001b[38;5;28;01mfor\u001b[39;00m iss \u001b[38;5;129;01min\u001b[39;00m issues:\n\u001b[0;32m     32\u001b[0m     make_plot(countries,iss)\n",
      "\u001b[1;31mNameError\u001b[0m: name 'issues' is not defined"
     ]
    }
   ],
   "source": [
    "def make_plot(countries,issue):\n",
    "    '''\n",
    "    A Python function that takes in the list of countries and issues and makes\n",
    "    a scatter plot of each issue with a trendline for each country.\n",
    "    '''\n",
    "    x_data = []\n",
    "    y_data = []\n",
    "    c_data = []\n",
    "    for cntry in countries:\n",
    "        my_group = c_groups.get_group((cntry,issue))\n",
    "        for y in my_group['year'].unique():\n",
    "            x_data.append(y)\n",
    "            tot_yes = sum(my_group[my_group['year']==y]['vote']=='yes')\n",
    "            percent_yes = tot_yes/len(my_group[my_group['year']==y])*100\n",
    "            y_data.append(percent_yes)\n",
    "            c_data.append(cntry)\n",
    "\n",
    "    fig = px.scatter(x=x_data, y=y_data,color=c_data,trendline=\"lowess\",labels={\"color\": \"Country\"})\n",
    "\n",
    "    fig.update_layout(\n",
    "        title={\n",
    "            'text': issue + '<br>',\n",
    "            'y':0.9,\n",
    "            'x':0.5,\n",
    "            'xanchor': 'center',\n",
    "            'yanchor': 'top'})\n",
    "    fig.update_yaxes(title_text=\"% Yes\")\n",
    "    fig.update_xaxes(title_text=\"Year\")\n",
    "    fig.show()\n",
    "    \n",
    "for iss in issues:\n",
    "    make_plot(countries,iss)"
   ]
  },
  {
   "cell_type": "markdown",
   "id": "130de118-e079-455c-9eb2-0eff64efca6a",
   "metadata": {},
   "source": [
    "### Problem 3\n",
    "\n",
    "Choose one of the graphs produced above (should match the lecture notes) and discuss what you see there:\n",
    "\n",
    "1. Which issue are you focusing on.\n",
    "2. What do the graph axis represent?\n",
    "3. Say in words how the United States votes have changed over time.\n",
    "4. How do the United States votes compare to the other countries?\n",
    "5. See if you can come up with one or two questions that interest you about the data in the graph."
   ]
  },
  {
   "cell_type": "markdown",
   "id": "de5b34d4-b795-43ac-a6e0-9c66680beb68",
   "metadata": {},
   "source": [
    "Nuclear weapons and nuclear material, it represents the year and the \"% yes\", it was low in the 60's but increased overtime. looks to be doing okay compared to the other countries,"
   ]
  },
  {
   "cell_type": "markdown",
   "id": "4874978e-edb6-488a-a11e-6dd290b351cc",
   "metadata": {},
   "source": [
    "### Problem 4\n",
    "\n",
    "Now go back up to where we picked our three focus countries and choose some different ones. Rerun the analysis. If you want you could choose more than three countries. \n",
    "\n",
    "Discuss the graph for the same issue but with the new countries."
   ]
  },
  {
   "cell_type": "markdown",
   "id": "ed39a439-8ef9-4d66-9a84-4d1615f971b5",
   "metadata": {},
   "source": [
    "Economic development, the year and the yes %, in the graph the votes start high and end low in 2020, had some of the highest in the 60's however is lower than the other countries in 2020. "
   ]
  },
  {
   "cell_type": "markdown",
   "id": "9fcce607-bfda-42a1-a556-a05c424dd6c9",
   "metadata": {},
   "source": [
    "--------------------------------\n",
    "### You are done with the homework... now what?\n",
    "--------------------------------\n",
    "\n",
    "1. Save your changes.\n",
    "2. In the Git tab, **Stage** your changed files - use the (+) button next to the file.\n",
    "3. **Commit** your changes by entering a summary and pushing commit.\n",
    "4. **Push** your changes using the cloud button.\n",
    "5. Check that your changes are on your GitHub repo (online)\n",
    "6. **TAKE THE DAILY QUIZ ON CANVAS** the quiz will ask you to copy and past the HTTPS link to your repo for the day.\n",
    "7. Come to class and get your questions answered.\n",
    "\n",
    "At the end of the week  you will submit your final versions of the homework on Canvas for grading. For this you can just drag and drop the HW.ipynb files into canvas. \n",
    "\n",
    "**IMPORTANT** If this is confusing this first week, don't worry, I can help you and I will be really flexible about these first few deadlines.\n"
   ]
  },
  {
   "cell_type": "code",
   "execution_count": null,
   "id": "f00c8fd3-9713-4a3c-906e-7db71731da15",
   "metadata": {},
   "outputs": [],
   "source": []
  }
 ],
 "metadata": {
  "kernelspec": {
   "display_name": "Python 3 (ipykernel)",
   "language": "python",
   "name": "python3"
  },
  "language_info": {
   "codemirror_mode": {
    "name": "ipython",
    "version": 3
   },
   "file_extension": ".py",
   "mimetype": "text/x-python",
   "name": "python",
   "nbconvert_exporter": "python",
   "pygments_lexer": "ipython3",
   "version": "3.12.3"
  }
 },
 "nbformat": 4,
 "nbformat_minor": 5
}
